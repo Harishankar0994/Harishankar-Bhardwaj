{
 "cells": [
  {
   "cell_type": "markdown",
   "metadata": {},
   "source": [
    "# Input From User"
   ]
  },
  {
   "cell_type": "code",
   "execution_count": 1,
   "metadata": {
    "scrolled": true
   },
   "outputs": [
    {
     "name": "stdout",
     "output_type": "stream",
     "text": [
      "Enter Your first number:14\n",
      "enter your second number:12\n",
      "Result: 26\n"
     ]
    }
   ],
   "source": [
    "x=int(input(\"Enter Your first number:\"))                ## First Convert String into Integer\n",
    "y=int(input(\"enter your second number:\"))\n",
    "z=x+y\n",
    "print(\"Result:\", z)"
   ]
  },
  {
   "cell_type": "code",
   "execution_count": 3,
   "metadata": {},
   "outputs": [
    {
     "name": "stdout",
     "output_type": "stream",
     "text": [
      "Enter First Name:Ranjana\n",
      "Enter Last Name: Bhardwaj\n",
      "Your Name Is: Ranjana Bhardwaj\n"
     ]
    }
   ],
   "source": [
    "a=input(\"Enter First Name:\")                      # Input function take input always in String\n",
    "b=input(\"Enter Last Name:\")\n",
    "c=a+b\n",
    "print(\"Your Name Is:\",c)"
   ]
  },
  {
   "cell_type": "code",
   "execution_count": 4,
   "metadata": {
    "scrolled": true
   },
   "outputs": [
    {
     "name": "stdout",
     "output_type": "stream",
     "text": [
      "Enter an Expr:12+14+10-23\n",
      "Expression : 13\n"
     ]
    }
   ],
   "source": [
    "res=eval(input(\"Enter an Expr:\"))                ## Eval Function for Evaluate an Expression\n",
    "print(\"Expression :\",res)"
   ]
  },
  {
   "cell_type": "code",
   "execution_count": 5,
   "metadata": {
    "scrolled": true
   },
   "outputs": [
    {
     "name": "stdout",
     "output_type": "stream",
     "text": [
      "Enter a Character:Ranjana\n",
      "R\n"
     ]
    }
   ],
   "source": [
    "ch=input(\"Enter a Character:\")[0]                    #\n",
    "print(ch)"
   ]
  },
  {
   "cell_type": "code",
   "execution_count": 7,
   "metadata": {
    "scrolled": true
   },
   "outputs": [
    {
     "name": "stdout",
     "output_type": "stream",
     "text": [
      "enter any number:12\n",
      "12 Is Even Number\n"
     ]
    }
   ],
   "source": [
    "x=int(input(\"enter any number:\"))            ## Check Even and Odd Number by Using IF \n",
    "r=x%2\n",
    "if r==0:\n",
    "    print(x, 'Is Even Number')\n",
    "if r==1:\n",
    "    print(x, 'Is Odd Number')"
   ]
  },
  {
   "cell_type": "code",
   "execution_count": 1,
   "metadata": {
    "scrolled": true
   },
   "outputs": [
    {
     "name": "stdout",
     "output_type": "stream",
     "text": [
      "enter any number:11\n",
      "11 Is Odd Number\n"
     ]
    }
   ],
   "source": [
    "x=int(input(\"enter any number:\"))\n",
    "r=x%2\n",
    "if r==0:\n",
    "    print(x, 'Is Even Number')\n",
    "if r==1:\n",
    "    print(x, 'Is Odd Number')"
   ]
  },
  {
   "cell_type": "code",
   "execution_count": 3,
   "metadata": {
    "scrolled": true
   },
   "outputs": [
    {
     "name": "stdout",
     "output_type": "stream",
     "text": [
      "enter any number:45\n",
      "45 Is Odd Number\n"
     ]
    }
   ],
   "source": [
    "x=int(input(\"enter any number:\"))           ## Check even/odd by using if/else statement\n",
    "r=x%2 \n",
    "if r==0:\n",
    "    print(x, 'Is Even Number')\n",
    "else:\n",
    "    print(x, 'Is Odd Number')"
   ]
  },
  {
   "cell_type": "code",
   "execution_count": 9,
   "metadata": {
    "scrolled": true
   },
   "outputs": [
    {
     "name": "stdout",
     "output_type": "stream",
     "text": [
      "enter any number:78\n",
      "78 Is Even Number\n",
      "78 is Greater than 10\n"
     ]
    }
   ],
   "source": [
    "x=int(input(\"enter any number:\"))             ## Nested if Example\n",
    "r=x%2\n",
    "if r==0:\n",
    "    print(x, 'Is Even Number')\n",
    "    if x>10:\n",
    "        print(x, 'is Greater than 10')\n",
    "    else:\n",
    "        print(x, 'is less than 10')\n",
    "else:\n",
    "    print(x, 'Is Odd Number')"
   ]
  },
  {
   "cell_type": "code",
   "execution_count": 10,
   "metadata": {},
   "outputs": [
    {
     "name": "stdout",
     "output_type": "stream",
     "text": [
      "enter any number:12\n",
      "Wrong Input! Try Again:\n"
     ]
    }
   ],
   "source": [
    "x=int(input(\"enter any number:\"))             ## elif Example\n",
    "if x==1:\n",
    "    print('One')\n",
    "elif x==2:\n",
    "    print(\"TWo\")\n",
    "elif x==3:\n",
    "    print(\"Three\")\n",
    "elif x==4:\n",
    "    print(\"Four\")\n",
    "else:\n",
    "    print(\"Wrong Input! Try Again:\")"
   ]
  },
  {
   "cell_type": "code",
   "execution_count": 11,
   "metadata": {
    "scrolled": true
   },
   "outputs": [
    {
     "name": "stdout",
     "output_type": "stream",
     "text": [
      "Enter first Number:10\n",
      "Enter second number:56\n",
      "Enter third Number:21\n",
      "56 Y is Greater\n"
     ]
    }
   ],
   "source": [
    "x=int(input('Enter first Number:'))    ## Find Greatest Number in Three Values\n",
    "y=int(input('Enter second number:'))\n",
    "z=int(input('Enter third Number:'))\n",
    "if x>y:\n",
    "    if x>z:\n",
    "        print(x, \"X Is Greater Number\")\n",
    "    else:\n",
    "        print(z, 'Z is Greater Number')\n",
    "else:\n",
    "    if y>z:\n",
    "        print(y, 'Y is Greater')\n",
    "    else:\n",
    "        print(z, 'Z is Greater')"
   ]
  },
  {
   "cell_type": "code",
   "execution_count": 12,
   "metadata": {},
   "outputs": [
    {
     "name": "stdout",
     "output_type": "stream",
     "text": [
      "Enter first Number:85\n",
      "Enter second number:95\n",
      "Enter third Number:14\n",
      "95 Y is greater Number\n"
     ]
    }
   ],
   "source": [
    "x=int(input('Enter first Number:'))    ## Find Greatest Number using \"AND\" function\n",
    "y=int(input('Enter second number:'))\n",
    "z=int(input('Enter third Number:'))\n",
    "if x>y and x>z:\n",
    "    print(x, 'X is Greater Number')\n",
    "elif y>x and y>z:\n",
    "    print(y, 'Y is greater Number')\n",
    "else:\n",
    "    print(z, 'Z is greater Number')"
   ]
  },
  {
   "cell_type": "code",
   "execution_count": 13,
   "metadata": {},
   "outputs": [],
   "source": [
    "(a,b,c)=(1,2,3)"
   ]
  },
  {
   "cell_type": "code",
   "execution_count": 14,
   "metadata": {},
   "outputs": [
    {
     "data": {
      "text/plain": [
       "1"
      ]
     },
     "execution_count": 14,
     "metadata": {},
     "output_type": "execute_result"
    }
   ],
   "source": [
    "a"
   ]
  },
  {
   "cell_type": "code",
   "execution_count": 15,
   "metadata": {},
   "outputs": [
    {
     "data": {
      "text/plain": [
       "(1, 2)"
      ]
     },
     "execution_count": 15,
     "metadata": {},
     "output_type": "execute_result"
    }
   ],
   "source": [
    "(a,b)"
   ]
  },
  {
   "cell_type": "code",
   "execution_count": 16,
   "metadata": {},
   "outputs": [
    {
     "data": {
      "text/plain": [
       "(2, 3)"
      ]
     },
     "execution_count": 16,
     "metadata": {},
     "output_type": "execute_result"
    }
   ],
   "source": [
    "(b,c)"
   ]
  },
  {
   "cell_type": "code",
   "execution_count": 17,
   "metadata": {},
   "outputs": [
    {
     "data": {
      "text/plain": [
       "(3, 1)"
      ]
     },
     "execution_count": 17,
     "metadata": {},
     "output_type": "execute_result"
    }
   ],
   "source": [
    "(c,a)"
   ]
  },
  {
   "cell_type": "code",
   "execution_count": 18,
   "metadata": {},
   "outputs": [
    {
     "name": "stdout",
     "output_type": "stream",
     "text": [
      "True\n"
     ]
    }
   ],
   "source": [
    "if 1:\n",
    "    print(\"True\")"
   ]
  },
  {
   "cell_type": "code",
   "execution_count": 26,
   "metadata": {},
   "outputs": [
    {
     "name": "stdout",
     "output_type": "stream",
     "text": [
      "Block 2\n",
      "Block 1\n",
      "Block 0\n"
     ]
    }
   ],
   "source": [
    "x=1\n",
    "if x:\n",
    "    y=1\n",
    "    if y:\n",
    "        print(\"Block 2\")\n",
    "    print(\"Block 1\")\n",
    "print(\"Block 0\")"
   ]
  }
 ],
 "metadata": {
  "kernelspec": {
   "display_name": "Python 3",
   "language": "python",
   "name": "python3"
  },
  "language_info": {
   "codemirror_mode": {
    "name": "ipython",
    "version": 3
   },
   "file_extension": ".py",
   "mimetype": "text/x-python",
   "name": "python",
   "nbconvert_exporter": "python",
   "pygments_lexer": "ipython3",
   "version": "3.7.1"
  }
 },
 "nbformat": 4,
 "nbformat_minor": 2
}
