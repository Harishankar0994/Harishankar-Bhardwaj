{
 "cells": [
  {
   "cell_type": "markdown",
   "metadata": {},
   "source": [
    "\n",
    "# For loop"
   ]
  },
  {
   "cell_type": "code",
   "execution_count": 53,
   "metadata": {},
   "outputs": [
    {
     "name": "stdout",
     "output_type": "stream",
     "text": [
      "Sum: 10\n"
     ]
    }
   ],
   "source": [
    "sum=0\n",
    "for i in [1,2,3,4]:\n",
    "    sum=sum+i\n",
    "print(\"Sum:\",sum)"
   ]
  },
  {
   "cell_type": "code",
   "execution_count": 54,
   "metadata": {},
   "outputs": [
    {
     "data": {
      "text/plain": [
       "[0, 1, 2, 3, 4, 5, 6, 7, 8, 9]"
      ]
     },
     "execution_count": 54,
     "metadata": {},
     "output_type": "execute_result"
    }
   ],
   "source": [
    "list(range(10))"
   ]
  },
  {
   "cell_type": "code",
   "execution_count": 19,
   "metadata": {},
   "outputs": [
    {
     "name": "stdout",
     "output_type": "stream",
     "text": [
      "Ranjana Bhardwaj\n",
      "I'm okay "
     ]
    }
   ],
   "source": [
    "name= 'Ranjana Bhardwaj'\n",
    "status=(\"I'm\",\"okay\")\n",
    "for i in name:\n",
    "    print(i, end=\"\")\n",
    "print()\n",
    "for x in status:\n",
    "    print(x,end=\" \")"
   ]
  },
  {
   "cell_type": "code",
   "execution_count": 5,
   "metadata": {},
   "outputs": [
    {
     "name": "stdout",
     "output_type": "stream",
     "text": [
      "Harry\n",
      "Loves\n",
      "Ranjana\n"
     ]
    }
   ],
   "source": [
    "list=['Harry', 'Loves', 'Ranjana']      # For loop Example\n",
    "for i in list:\n",
    "    print(i)"
   ]
  },
  {
   "cell_type": "code",
   "execution_count": 6,
   "metadata": {},
   "outputs": [
    {
     "name": "stdout",
     "output_type": "stream",
     "text": [
      "R\n",
      "a\n",
      "n\n",
      "j\n",
      "a\n",
      "n\n",
      "a\n",
      " \n",
      "B\n",
      "h\n",
      "a\n",
      "r\n",
      "d\n",
      "w\n",
      "a\n",
      "j\n"
     ]
    }
   ],
   "source": [
    "x='Ranjana Bhardwaj'\n",
    "for i in x:\n",
    "    print(i)"
   ]
  },
  {
   "cell_type": "code",
   "execution_count": 7,
   "metadata": {},
   "outputs": [
    {
     "name": "stdout",
     "output_type": "stream",
     "text": [
      "Ranjana Bhardwaj"
     ]
    }
   ],
   "source": [
    "for i in ['Ranjana Bhardwaj']:\n",
    "    print(i, end=\"\")"
   ]
  },
  {
   "cell_type": "code",
   "execution_count": 8,
   "metadata": {},
   "outputs": [
    {
     "name": "stdout",
     "output_type": "stream",
     "text": [
      "Ranjana Birth Date is 8 July\n",
      "5\n"
     ]
    }
   ],
   "source": [
    "for i in ['Ranjana ', 'Birth ', 'Date ', 'is ', 8 ,' July']:\n",
    "    print(i, end='')\n",
    "print()\n",
    "print(len(i))"
   ]
  },
  {
   "cell_type": "code",
   "execution_count": 10,
   "metadata": {},
   "outputs": [
    {
     "name": "stdout",
     "output_type": "stream",
     "text": [
      "0\n",
      "1\n",
      "2\n",
      "3\n",
      "4\n"
     ]
    }
   ],
   "source": [
    "for i in range(5):    ## print 0 to 4 using ' Range ' function\n",
    "    print(i)"
   ]
  },
  {
   "cell_type": "code",
   "execution_count": 11,
   "metadata": {},
   "outputs": [
    {
     "name": "stdout",
     "output_type": "stream",
     "text": [
      "1\n",
      "3\n",
      "5\n",
      "7\n",
      "9\n",
      "11\n",
      "13\n",
      "15\n",
      "17\n",
      "19\n"
     ]
    }
   ],
   "source": [
    "for i in range(1,20,2):\n",
    "    print(i)"
   ]
  },
  {
   "cell_type": "code",
   "execution_count": 13,
   "metadata": {},
   "outputs": [
    {
     "name": "stdout",
     "output_type": "stream",
     "text": [
      "20\n",
      "19\n",
      "18\n",
      "17\n",
      "16\n",
      "15\n",
      "14\n",
      "13\n",
      "12\n",
      "11\n",
      "10\n",
      "9\n",
      "8\n",
      "7\n",
      "6\n",
      "5\n",
      "4\n",
      "3\n",
      "2\n",
      "1\n"
     ]
    }
   ],
   "source": [
    "for i in range(20,0,-1):\n",
    "    print(i)"
   ]
  },
  {
   "cell_type": "code",
   "execution_count": 14,
   "metadata": {},
   "outputs": [
    {
     "name": "stdout",
     "output_type": "stream",
     "text": [
      "1\n",
      "2\n",
      "3\n",
      "4\n",
      "6\n",
      "7\n",
      "8\n",
      "9\n",
      "11\n",
      "12\n",
      "13\n",
      "14\n",
      "16\n",
      "17\n",
      "18\n",
      "19\n",
      "21\n",
      "22\n",
      "23\n",
      "24\n",
      "26\n",
      "27\n",
      "28\n",
      "29\n",
      "31\n",
      "32\n",
      "33\n",
      "34\n",
      "36\n",
      "37\n",
      "38\n",
      "39\n",
      "41\n",
      "42\n",
      "43\n",
      "44\n",
      "46\n",
      "47\n",
      "48\n",
      "49\n"
     ]
    }
   ],
   "source": [
    "## WAP to print 1 to 50, but skip those number are diivsible by 5.\n",
    "\n",
    "for i in range(0,51,1):\n",
    "    if i%5!=0:\n",
    "        print(i)"
   ]
  },
  {
   "cell_type": "markdown",
   "metadata": {},
   "source": [
    "#  Break and Continue Function"
   ]
  },
  {
   "cell_type": "code",
   "execution_count": 3,
   "metadata": {},
   "outputs": [
    {
     "name": "stdout",
     "output_type": "stream",
     "text": [
      "How many Candy You Want?:12\n",
      "Candy 1\n",
      "Candy 2\n",
      "Candy 3\n",
      "Candy 4\n",
      "Candy 5\n",
      "Candy 6\n",
      "Candy 7\n",
      "Candy 8\n",
      "Out of Stock\n",
      "Thanks!\n"
     ]
    }
   ],
   "source": [
    "av=8                                         ## This is how break function work\n",
    "x=int(input(\"How many Candy You Want?:\"))\n",
    "i=1\n",
    "while i<=x:\n",
    "    if i>av:\n",
    "        print(\"Out of Stock\")\n",
    "        break\n",
    "    print(\"Candy\", i)\n",
    "    i+=1\n",
    "print(\"Thanks!\")"
   ]
  },
  {
   "cell_type": "code",
   "execution_count": 10,
   "metadata": {},
   "outputs": [
    {
     "name": "stdout",
     "output_type": "stream",
     "text": [
      "My World Ranjana 0\n",
      "My World Ranjana 1\n",
      "My World Ranjana 2\n",
      "My World Ranjana 4\n",
      "My World Ranjana 5\n"
     ]
    }
   ],
   "source": [
    "for i in range(6):                            ## Continue\n",
    "    if i==3:\n",
    "        continue\n",
    "    print(\"My World Ranjana\", i)"
   ]
  },
  {
   "cell_type": "code",
   "execution_count": 11,
   "metadata": {},
   "outputs": [
    {
     "name": "stdout",
     "output_type": "stream",
     "text": [
      "My World Ranjana 0\n",
      "My World Ranjana 1\n",
      "My World Ranjana 2\n"
     ]
    }
   ],
   "source": [
    "for i in range(5):                         ## Break\n",
    "    if i==3:\n",
    "        break\n",
    "    print(\"My World Ranjana\", i)"
   ]
  },
  {
   "cell_type": "markdown",
   "metadata": {},
   "source": [
    "#  Pattern"
   ]
  },
  {
   "cell_type": "code",
   "execution_count": 13,
   "metadata": {},
   "outputs": [
    {
     "name": "stdout",
     "output_type": "stream",
     "text": [
      "# # # # \n",
      "# # # # \n",
      "# # # # \n",
      "# # # # \n"
     ]
    }
   ],
   "source": [
    "for i in range(4):\n",
    "    for j in range(4):\n",
    "        print(\"# \", end=\"\")\n",
    "    print()"
   ]
  },
  {
   "cell_type": "code",
   "execution_count": 14,
   "metadata": {},
   "outputs": [
    {
     "name": "stdout",
     "output_type": "stream",
     "text": [
      "* \n",
      "* * \n",
      "* * * \n",
      "* * * * \n"
     ]
    }
   ],
   "source": [
    "for i in range(1,5):\n",
    "    for j in range(i):\n",
    "        print(\"* \",end=\"\")\n",
    "    print()"
   ]
  },
  {
   "cell_type": "code",
   "execution_count": 17,
   "metadata": {},
   "outputs": [
    {
     "name": "stdout",
     "output_type": "stream",
     "text": [
      "* * * * * \n",
      "* * * * \n",
      "* * * \n",
      "* * \n",
      "* \n"
     ]
    }
   ],
   "source": [
    "for i in range(5,0,-1):\n",
    "    for j in range(i):\n",
    "        print(\"* \",end=\"\")\n",
    "    print()"
   ]
  },
  {
   "cell_type": "code",
   "execution_count": 21,
   "metadata": {},
   "outputs": [
    {
     "name": "stdout",
     "output_type": "stream",
     "text": [
      "Ranjana \n",
      "Ranjana Ranjana \n",
      "Ranjana Ranjana Ranjana \n",
      "Ranjana Ranjana Ranjana Ranjana \n",
      "Ranjana Ranjana Ranjana Ranjana Ranjana \n",
      "Ranjana Ranjana Ranjana Ranjana Ranjana Ranjana \n",
      "Ranjana Ranjana Ranjana Ranjana Ranjana Ranjana Ranjana \n"
     ]
    }
   ],
   "source": [
    "for i in range(1,8):\n",
    "    for j in range(i):\n",
    "        print(\"Ranjana \", end=\"\")\n",
    "    print()"
   ]
  },
  {
   "cell_type": "code",
   "execution_count": 55,
   "metadata": {},
   "outputs": [
    {
     "name": "stdout",
     "output_type": "stream",
     "text": [
      "1111\n",
      "222\n",
      "33\n",
      "4\n"
     ]
    }
   ],
   "source": [
    "for i in range(1,5):\n",
    "    for j in range(5-i):\n",
    "        j=j-1\n",
    "        print(i,end=\"\")\n",
    "    print()"
   ]
  },
  {
   "cell_type": "code",
   "execution_count": 74,
   "metadata": {},
   "outputs": [
    {
     "name": "stdout",
     "output_type": "stream",
     "text": [
      "12345\n",
      "1234\n",
      "123\n",
      "12\n",
      "1\n"
     ]
    }
   ],
   "source": [
    "for i in range(5,0,-1):\n",
    "    for j in range(i):\n",
    "        j=j+1\n",
    "        print(j,end='')\n",
    "    print()"
   ]
  },
  {
   "cell_type": "code",
   "execution_count": 79,
   "metadata": {},
   "outputs": [
    {
     "name": "stdout",
     "output_type": "stream",
     "text": [
      "12345\n",
      "2345\n",
      "345\n",
      "45\n",
      "5\n"
     ]
    }
   ],
   "source": [
    "for i in range(1,6):\n",
    "    for j in range(6-i):\n",
    "        j=j+i\n",
    "        print(j, end='')\n",
    "    print()"
   ]
  },
  {
   "cell_type": "code",
   "execution_count": 80,
   "metadata": {},
   "outputs": [
    {
     "name": "stdout",
     "output_type": "stream",
     "text": [
      "12345\n",
      "1234\n",
      "123\n",
      "12\n",
      "1\n"
     ]
    }
   ],
   "source": [
    "for i in range(1,6):\n",
    "    for j in range(6-i):\n",
    "        print(j+1, end='')\n",
    "    print()"
   ]
  },
  {
   "cell_type": "code",
   "execution_count": 85,
   "metadata": {},
   "outputs": [
    {
     "name": "stdout",
     "output_type": "stream",
     "text": [
      "\n",
      "1\n",
      "12\n",
      "123\n",
      "1234\n",
      "12345\n"
     ]
    }
   ],
   "source": [
    "for i in range(6):\n",
    "    for j in range(i):\n",
    "        print(j+1, end='')\n",
    "    print()"
   ]
  },
  {
   "cell_type": "code",
   "execution_count": 22,
   "metadata": {},
   "outputs": [
    {
     "name": "stdout",
     "output_type": "stream",
     "text": [
      "\n",
      "1 \n",
      "1 2 \n",
      "1 2 3 \n",
      "1 2 3 4 \n",
      "1 2 3 4 5 \n",
      "1 2 3 4 5 6 \n",
      "1 2 3 4 5 6 7 \n",
      "1 2 3 4 5 6 7 8 \n",
      "1 2 3 4 5 6 7 8 9 \n",
      "1 2 3 4 5 6 7 8 9 10 \n",
      "1 2 3 4 5 6 7 8 9 10 11 \n",
      "1 2 3 4 5 6 7 8 9 10 11 12 \n",
      "1 2 3 4 5 6 7 8 9 10 11 12 13 \n",
      "1 2 3 4 5 6 7 8 9 10 11 12 13 14 \n",
      "1 2 3 4 5 6 7 8 9 10 11 12 13 14 15 \n",
      "1 2 3 4 5 6 7 8 9 10 11 12 13 14 15 16 \n",
      "1 2 3 4 5 6 7 8 9 10 11 12 13 14 15 16 17 \n",
      "1 2 3 4 5 6 7 8 9 10 11 12 13 14 15 16 17 18 \n",
      "1 2 3 4 5 6 7 8 9 10 11 12 13 14 15 16 17 18 19 \n",
      "1 2 3 4 5 6 7 8 9 10 11 12 13 14 15 16 17 18 19 20 \n",
      "1 2 3 4 5 6 7 8 9 10 11 12 13 14 15 16 17 18 19 20 21 \n",
      "1 2 3 4 5 6 7 8 9 10 11 12 13 14 15 16 17 18 19 20 21 22 \n",
      "1 2 3 4 5 6 7 8 9 10 11 12 13 14 15 16 17 18 19 20 21 22 23 \n",
      "1 2 3 4 5 6 7 8 9 10 11 12 13 14 15 16 17 18 19 20 21 22 23 24 \n",
      "1 2 3 4 5 6 7 8 9 10 11 12 13 14 15 16 17 18 19 20 21 22 23 24 25 \n",
      "1 2 3 4 5 6 7 8 9 10 11 12 13 14 15 16 17 18 19 20 21 22 23 24 25 26 \n",
      "1 2 3 4 5 6 7 8 9 10 11 12 13 14 15 16 17 18 19 20 21 22 23 24 25 26 27 \n",
      "1 2 3 4 5 6 7 8 9 10 11 12 13 14 15 16 17 18 19 20 21 22 23 24 25 26 27 28 \n",
      "1 2 3 4 5 6 7 8 9 10 11 12 13 14 15 16 17 18 19 20 21 22 23 24 25 26 27 28 29 \n",
      "1 2 3 4 5 6 7 8 9 10 11 12 13 14 15 16 17 18 19 20 21 22 23 24 25 26 27 28 29 30 \n",
      "1 2 3 4 5 6 7 8 9 10 11 12 13 14 15 16 17 18 19 20 21 22 23 24 25 26 27 28 29 30 31 \n",
      "1 2 3 4 5 6 7 8 9 10 11 12 13 14 15 16 17 18 19 20 21 22 23 24 25 26 27 28 29 30 31 32 \n",
      "1 2 3 4 5 6 7 8 9 10 11 12 13 14 15 16 17 18 19 20 21 22 23 24 25 26 27 28 29 30 31 32 33 \n",
      "1 2 3 4 5 6 7 8 9 10 11 12 13 14 15 16 17 18 19 20 21 22 23 24 25 26 27 28 29 30 31 32 33 34 \n",
      "1 2 3 4 5 6 7 8 9 10 11 12 13 14 15 16 17 18 19 20 21 22 23 24 25 26 27 28 29 30 31 32 33 34 35 \n",
      "1 2 3 4 5 6 7 8 9 10 11 12 13 14 15 16 17 18 19 20 21 22 23 24 25 26 27 28 29 30 31 32 33 34 35 36 \n",
      "1 2 3 4 5 6 7 8 9 10 11 12 13 14 15 16 17 18 19 20 21 22 23 24 25 26 27 28 29 30 31 32 33 34 35 36 37 \n",
      "1 2 3 4 5 6 7 8 9 10 11 12 13 14 15 16 17 18 19 20 21 22 23 24 25 26 27 28 29 30 31 32 33 34 35 36 37 38 \n",
      "1 2 3 4 5 6 7 8 9 10 11 12 13 14 15 16 17 18 19 20 21 22 23 24 25 26 27 28 29 30 31 32 33 34 35 36 37 38 39 \n",
      "1 2 3 4 5 6 7 8 9 10 11 12 13 14 15 16 17 18 19 20 21 22 23 24 25 26 27 28 29 30 31 32 33 34 35 36 37 38 39 40 \n",
      "1 2 3 4 5 6 7 8 9 10 11 12 13 14 15 16 17 18 19 20 21 22 23 24 25 26 27 28 29 30 31 32 33 34 35 36 37 38 39 40 41 \n",
      "1 2 3 4 5 6 7 8 9 10 11 12 13 14 15 16 17 18 19 20 21 22 23 24 25 26 27 28 29 30 31 32 33 34 35 36 37 38 39 40 41 42 \n",
      "1 2 3 4 5 6 7 8 9 10 11 12 13 14 15 16 17 18 19 20 21 22 23 24 25 26 27 28 29 30 31 32 33 34 35 36 37 38 39 40 41 42 43 \n",
      "1 2 3 4 5 6 7 8 9 10 11 12 13 14 15 16 17 18 19 20 21 22 23 24 25 26 27 28 29 30 31 32 33 34 35 36 37 38 39 40 41 42 43 44 \n"
     ]
    }
   ],
   "source": [
    "for i in range(45):\n",
    "    for j in range(i):\n",
    "        print(j+1, end=\" \")\n",
    "    print()"
   ]
  },
  {
   "cell_type": "code",
   "execution_count": 27,
   "metadata": {},
   "outputs": [
    {
     "name": "stdout",
     "output_type": "stream",
     "text": [
      "5 \n",
      "5 5 \n",
      "5 5 5 \n",
      "5 5 5 5 \n",
      "5 5 5 5 5 \n",
      "5 5 5 5 5 5 \n",
      "5 5 5 5 5 5 5 \n",
      "5 5 5 5 5 5 5 5 \n",
      "5 5 5 5 5 5 5 5 5 \n",
      "5 5 5 5 5 5 5 5 5 5 \n"
     ]
    }
   ],
   "source": [
    "count=5\n",
    "for row in range(1,11):\n",
    "    for col in range(1,row+1):\n",
    "        print(count, end=\" \")\n",
    "    print()\n"
   ]
  },
  {
   "cell_type": "code",
   "execution_count": 28,
   "metadata": {},
   "outputs": [
    {
     "name": "stdout",
     "output_type": "stream",
     "text": [
      "1 \n",
      "2 3 \n",
      "4 5 6 \n",
      "7 8 9 10 \n",
      "11 12 13 14 15 \n",
      "16 17 18 19 20 21 \n",
      "22 23 24 25 26 27 28 \n",
      "29 30 31 32 33 34 35 36 \n",
      "37 38 39 40 41 42 43 44 45 \n",
      "46 47 48 49 50 51 52 53 54 55 \n"
     ]
    }
   ],
   "source": [
    "count=1\n",
    "for row in range(1,11):\n",
    "    for col in range(1,row+1):\n",
    "        print(count, end=\" \")\n",
    "        count=count+1\n",
    "    print()"
   ]
  },
  {
   "cell_type": "code",
   "execution_count": 32,
   "metadata": {},
   "outputs": [
    {
     "name": "stdout",
     "output_type": "stream",
     "text": [
      "    1 \n",
      "    2     3 \n",
      "    4     5     6 \n",
      "    7     8     9    10 \n",
      "   11    12    13    14    15 \n",
      "   16    17    18    19    20    21 \n",
      "   22    23    24    25    26    27    28 \n",
      "   29    30    31    32    33    34    35    36 \n",
      "   37    38    39    40    41    42    43    44    45 \n",
      "   46    47    48    49    50    51    52    53    54    55 \n"
     ]
    }
   ],
   "source": [
    "count=1\n",
    "for row in range(1,11):\n",
    "    for col in range(1,row+1):\n",
    "        print('%5d'%count, end=\" \")    # 5d for space\n",
    "        count=count+1\n",
    "    print()"
   ]
  },
  {
   "cell_type": "code",
   "execution_count": 47,
   "metadata": {},
   "outputs": [
    {
     "name": "stdout",
     "output_type": "stream",
     "text": [
      "* * * * 1 \n",
      "* * * 1 2 \n",
      "* * 1 2 3 \n",
      "* 1 2 3 4 \n",
      "1 2 3 4 5 \n"
     ]
    }
   ],
   "source": [
    "for row in range(1,6):\n",
    "    for space in range(1,6-row):\n",
    "        print(\"*\", end=\" \")\n",
    "    for col in range(1,row+1):\n",
    "        print(col, end=\" \")\n",
    "    print()"
   ]
  },
  {
   "cell_type": "code",
   "execution_count": 46,
   "metadata": {},
   "outputs": [
    {
     "name": "stdout",
     "output_type": "stream",
     "text": [
      "                  1 \n",
      "                1 2 \n",
      "              1 2 3 \n",
      "            1 2 3 4 \n",
      "          1 2 3 4 5 \n",
      "        1 2 3 4 5 6 \n",
      "      1 2 3 4 5 6 7 \n",
      "    1 2 3 4 5 6 7 8 \n",
      "  1 2 3 4 5 6 7 8 9 \n",
      "1 2 3 4 5 6 7 8 9 10 \n"
     ]
    }
   ],
   "source": [
    "for row in range(1,11):\n",
    "    for space in range(1,11-row):\n",
    "        print(\" \", end=\" \")\n",
    "    for col in range(1,row+1):\n",
    "        print(col, end=\" \")\n",
    "    print()"
   ]
  },
  {
   "cell_type": "code",
   "execution_count": 63,
   "metadata": {},
   "outputs": [
    {
     "name": "stdout",
     "output_type": "stream",
     "text": [
      "                                                            # \n",
      "                                                          # # \n",
      "                                                        # # # \n",
      "                                                      # # # # \n",
      "                                                    # # # # # \n",
      "                                                  # # # # # # \n",
      "                                                # # # # # # # \n",
      "                                              # # # # # # # # \n",
      "                                            # # # # # # # # # \n",
      "                                          # # # # # # # # # # \n",
      "                                        # # # # # # # # # # # \n",
      "                                      # # # # # # # # # # # # \n",
      "                                    # # # # # # # # # # # # # \n",
      "                                  # # # # # # # # # # # # # # \n",
      "                                # # # # # # # # # # # # # # # \n",
      "                              # # # # # # # # # # # # # # # # \n",
      "                            # # # # # # # # # # # # # # # # # \n",
      "                          # # # # # # # # # # # # # # # # # # \n",
      "                        # # # # # # # # # # # # # # # # # # # \n",
      "                      # # # # # # # # # # # # # # # # # # # # \n",
      "                    # # # # # # # # # # # # # # # # # # # # # \n",
      "                  # # # # # # # # # # # # # # # # # # # # # # \n",
      "                # # # # # # # # # # # # # # # # # # # # # # # \n",
      "              # # # # # # # # # # # # # # # # # # # # # # # # \n",
      "            # # # # # # # # # # # # # # # # # # # # # # # # # \n",
      "          # # # # # # # # # # # # # # # # # # # # # # # # # # \n",
      "        # # # # # # # # # # # # # # # # # # # # # # # # # # # \n",
      "      # # # # # # # # # # # # # # # # # # # # # # # # # # # # \n",
      "    # # # # # # # # # # # # # # # # # # # # # # # # # # # # # \n",
      "  # # # # # # # # # # # # # # # # # # # # # # # # # # # # # # \n"
     ]
    }
   ],
   "source": [
    "for i in range(1,31):\n",
    "    for j in range(31-i):\n",
    "        print(' ', end=\" \")\n",
    "    for k in range(1,i+1):\n",
    "        print('#',end=\" \")\n",
    "    print()"
   ]
  },
  {
   "cell_type": "code",
   "execution_count": null,
   "metadata": {},
   "outputs": [],
   "source": [
    "\n"
   ]
  }
 ],
 "metadata": {
  "kernelspec": {
   "display_name": "Python 3",
   "language": "python",
   "name": "python3"
  },
  "language_info": {
   "codemirror_mode": {
    "name": "ipython",
    "version": 3
   },
   "file_extension": ".py",
   "mimetype": "text/x-python",
   "name": "python",
   "nbconvert_exporter": "python",
   "pygments_lexer": "ipython3",
   "version": "3.7.1"
  }
 },
 "nbformat": 4,
 "nbformat_minor": 2
}
